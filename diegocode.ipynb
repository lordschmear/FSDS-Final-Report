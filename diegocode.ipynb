{
 "cells": [
  {
   "cell_type": "code",
   "execution_count": 2,
   "id": "b118de46-13db-408d-86f2-8b7da685b50d",
   "metadata": {},
   "outputs": [],
   "source": [
    "# Working on this - Diego #"
   ]
  },
  {
   "cell_type": "code",
   "execution_count": 3,
   "id": "4e1a9cb9-c29a-406c-ad86-6134aadbbdf3",
   "metadata": {},
   "outputs": [],
   "source": [
    "import os\n",
    "import re \n",
    "import numpy as np\n",
    "import pandas as pd\n",
    "import geopandas as gpd\n",
    "import matplotlib as plt\n",
    "import seaborn as sns"
   ]
  },
  {
   "cell_type": "code",
   "execution_count": 5,
   "id": "4c40abf4-f5e9-44c0-ab5e-f85a8c243f3d",
   "metadata": {},
   "outputs": [],
   "source": [
    "# Downloaded listings.csv from Inside AirBNB on Saturday, December 24th #\n",
    "df = pd.read_csv('listingsdec24.csv')"
   ]
  },
  {
   "cell_type": "code",
   "execution_count": 6,
   "id": "3180ac1e-7376-4190-a63c-e66a79a8ef4f",
   "metadata": {},
   "outputs": [],
   "source": [
    "df1 = pd.read_csv('neighbourhoods.csv')"
   ]
  },
  {
   "cell_type": "code",
   "execution_count": 7,
   "id": "0e72f17f-7f61-4058-907a-6a097476fd81",
   "metadata": {},
   "outputs": [
    {
     "name": "stdout",
     "output_type": "stream",
     "text": [
      "['id' 'name' 'host_id' 'host_name' 'neighbourhood_group' 'neighbourhood'\n",
      " 'latitude' 'longitude' 'room_type' 'price' 'minimum_nights'\n",
      " 'number_of_reviews' 'last_review' 'reviews_per_month'\n",
      " 'calculated_host_listings_count' 'availability_365'\n",
      " 'number_of_reviews_ltm' 'license']\n"
     ]
    }
   ],
   "source": [
    "print(df.columns.values)"
   ]
  },
  {
   "cell_type": "code",
   "execution_count": 8,
   "id": "9f9857ce-bef3-44dc-9671-428c904bcbbf",
   "metadata": {},
   "outputs": [
    {
     "data": {
      "text/plain": [
       "<bound method NDFrame.describe of                        id                                          name  \\\n",
       "0                  106332              Lovely large room, Bethnal Green   \n",
       "1                   13913           Holiday London DB Room Let-on going   \n",
       "2                  284532           COSY STUDIO-FLAT WITH A GREAT  VIEW   \n",
       "3                  107048          A Luxury Studio Suite in Clerkenwell   \n",
       "4                  284603           Notting Hill church stay in Heaven!   \n",
       "...                   ...                                           ...   \n",
       "69346             9671724            Cozy room in Greenwich, river view   \n",
       "69347            20277958                        River view Tate Modern   \n",
       "69348            20512703  Luxury 4 bed house, 100m to river and palace   \n",
       "69349            49698549                       Waterfront Hampton Stay   \n",
       "69350  554172169432589107  GuestReady Gorgeous Bright 2 Br Apartment in   \n",
       "\n",
       "         host_id       host_name  neighbourhood_group           neighbourhood  \\\n",
       "0         264345           Susie                  NaN           Tower Hamlets   \n",
       "1          54730           Alina                  NaN               Islington   \n",
       "2        1481412            Luca                  NaN           Tower Hamlets   \n",
       "3         259088           Simon                  NaN               Islington   \n",
       "4        1481851           Tania                  NaN  Kensington and Chelsea   \n",
       "...          ...             ...                  ...                     ...   \n",
       "69346   49977905            Kurt                  NaN               Greenwich   \n",
       "69347    1132775            Mark                  NaN               Southwark   \n",
       "69348    1706966  Asher & Aileen                  NaN    Richmond upon Thames   \n",
       "69349   34213667            Alan                  NaN    Richmond upon Thames   \n",
       "69350  402191311      GuestReady                  NaN               Greenwich   \n",
       "\n",
       "       latitude  longitude        room_type  price  minimum_nights  \\\n",
       "0      51.52874   -0.05396     Private room     55               3   \n",
       "1      51.56861   -0.11270     Private room     50               1   \n",
       "2      51.52851   -0.07426  Entire home/apt     90               5   \n",
       "3      51.52478   -0.10484     Private room    180               4   \n",
       "4      51.51464   -0.20004  Entire home/apt    297              14   \n",
       "...         ...        ...              ...    ...             ...   \n",
       "69346  51.48300   -0.01346     Private room     55               5   \n",
       "69347  51.50914   -0.10192  Entire home/apt    201               3   \n",
       "69348  51.40571   -0.35325  Entire home/apt    246               3   \n",
       "69349  51.41029   -0.35975  Entire home/apt    250               3   \n",
       "69350  51.50183    0.00862  Entire home/apt    134               2   \n",
       "\n",
       "       number_of_reviews last_review  reviews_per_month  \\\n",
       "0                     65  2016-06-10               0.47   \n",
       "1                     30  2022-07-15               0.20   \n",
       "2                     42  2022-01-04               0.34   \n",
       "3                    493  2022-09-02               3.59   \n",
       "4                      6  2022-07-04               0.05   \n",
       "...                  ...         ...                ...   \n",
       "69346                 67  2021-10-03               0.84   \n",
       "69347                 61  2022-09-09               0.99   \n",
       "69348                  6  2022-08-31               1.49   \n",
       "69349                  9  2022-07-18               0.61   \n",
       "69350                 17  2022-06-20               2.45   \n",
       "\n",
       "       calculated_host_listings_count  availability_365  \\\n",
       "0                                   1                74   \n",
       "1                                   2               343   \n",
       "2                                   1               222   \n",
       "3                                   5               236   \n",
       "4                                   1               180   \n",
       "...                               ...               ...   \n",
       "69346                               3                 0   \n",
       "69347                               1                 0   \n",
       "69348                               1                 4   \n",
       "69349                               1                 2   \n",
       "69350                             101                85   \n",
       "\n",
       "       number_of_reviews_ltm  license  \n",
       "0                          0      NaN  \n",
       "1                          9      NaN  \n",
       "2                          1      NaN  \n",
       "3                         20      NaN  \n",
       "4                          2      NaN  \n",
       "...                      ...      ...  \n",
       "69346                      1      NaN  \n",
       "69347                     12      NaN  \n",
       "69348                      6      NaN  \n",
       "69349                      4      NaN  \n",
       "69350                     17      NaN  \n",
       "\n",
       "[69351 rows x 18 columns]>"
      ]
     },
     "execution_count": 8,
     "metadata": {},
     "output_type": "execute_result"
    }
   ],
   "source": [
    "df.describe"
   ]
  },
  {
   "cell_type": "code",
   "execution_count": 16,
   "id": "9754d673-aad2-41c0-9be7-a66922a899fc",
   "metadata": {},
   "outputs": [
    {
     "ename": "KeyError",
     "evalue": "\"['license'] not found in axis\"",
     "output_type": "error",
     "traceback": [
      "\u001b[0;31m---------------------------------------------------------------------------\u001b[0m",
      "\u001b[0;31mKeyError\u001b[0m                                  Traceback (most recent call last)",
      "Input \u001b[0;32mIn [16]\u001b[0m, in \u001b[0;36m<cell line: 2>\u001b[0;34m()\u001b[0m\n\u001b[1;32m      1\u001b[0m to_drop \u001b[38;5;241m=\u001b[39m [\u001b[38;5;124m'\u001b[39m\u001b[38;5;124mlicense\u001b[39m\u001b[38;5;124m'\u001b[39m]\n\u001b[0;32m----> 2\u001b[0m \u001b[43mdf\u001b[49m\u001b[38;5;241;43m.\u001b[39;49m\u001b[43mdrop\u001b[49m\u001b[43m(\u001b[49m\u001b[43mto_drop\u001b[49m\u001b[43m,\u001b[49m\u001b[43m \u001b[49m\u001b[43minplace\u001b[49m\u001b[38;5;241;43m=\u001b[39;49m\u001b[38;5;28;43;01mTrue\u001b[39;49;00m\u001b[43m,\u001b[49m\u001b[43m \u001b[49m\u001b[43maxis\u001b[49m\u001b[43m \u001b[49m\u001b[38;5;241;43m=\u001b[39;49m\u001b[43m \u001b[49m\u001b[38;5;241;43m1\u001b[39;49m\u001b[43m)\u001b[49m\n",
      "File \u001b[0;32m/opt/conda/lib/python3.10/site-packages/pandas/util/_decorators.py:311\u001b[0m, in \u001b[0;36mdeprecate_nonkeyword_arguments.<locals>.decorate.<locals>.wrapper\u001b[0;34m(*args, **kwargs)\u001b[0m\n\u001b[1;32m    305\u001b[0m \u001b[38;5;28;01mif\u001b[39;00m \u001b[38;5;28mlen\u001b[39m(args) \u001b[38;5;241m>\u001b[39m num_allow_args:\n\u001b[1;32m    306\u001b[0m     warnings\u001b[38;5;241m.\u001b[39mwarn(\n\u001b[1;32m    307\u001b[0m         msg\u001b[38;5;241m.\u001b[39mformat(arguments\u001b[38;5;241m=\u001b[39marguments),\n\u001b[1;32m    308\u001b[0m         \u001b[38;5;167;01mFutureWarning\u001b[39;00m,\n\u001b[1;32m    309\u001b[0m         stacklevel\u001b[38;5;241m=\u001b[39mstacklevel,\n\u001b[1;32m    310\u001b[0m     )\n\u001b[0;32m--> 311\u001b[0m \u001b[38;5;28;01mreturn\u001b[39;00m \u001b[43mfunc\u001b[49m\u001b[43m(\u001b[49m\u001b[38;5;241;43m*\u001b[39;49m\u001b[43margs\u001b[49m\u001b[43m,\u001b[49m\u001b[43m \u001b[49m\u001b[38;5;241;43m*\u001b[39;49m\u001b[38;5;241;43m*\u001b[39;49m\u001b[43mkwargs\u001b[49m\u001b[43m)\u001b[49m\n",
      "File \u001b[0;32m/opt/conda/lib/python3.10/site-packages/pandas/core/frame.py:4954\u001b[0m, in \u001b[0;36mDataFrame.drop\u001b[0;34m(self, labels, axis, index, columns, level, inplace, errors)\u001b[0m\n\u001b[1;32m   4806\u001b[0m \u001b[38;5;129m@deprecate_nonkeyword_arguments\u001b[39m(version\u001b[38;5;241m=\u001b[39m\u001b[38;5;28;01mNone\u001b[39;00m, allowed_args\u001b[38;5;241m=\u001b[39m[\u001b[38;5;124m\"\u001b[39m\u001b[38;5;124mself\u001b[39m\u001b[38;5;124m\"\u001b[39m, \u001b[38;5;124m\"\u001b[39m\u001b[38;5;124mlabels\u001b[39m\u001b[38;5;124m\"\u001b[39m])\n\u001b[1;32m   4807\u001b[0m \u001b[38;5;28;01mdef\u001b[39;00m \u001b[38;5;21mdrop\u001b[39m(\n\u001b[1;32m   4808\u001b[0m     \u001b[38;5;28mself\u001b[39m,\n\u001b[0;32m   (...)\u001b[0m\n\u001b[1;32m   4815\u001b[0m     errors: \u001b[38;5;28mstr\u001b[39m \u001b[38;5;241m=\u001b[39m \u001b[38;5;124m\"\u001b[39m\u001b[38;5;124mraise\u001b[39m\u001b[38;5;124m\"\u001b[39m,\n\u001b[1;32m   4816\u001b[0m ):\n\u001b[1;32m   4817\u001b[0m     \u001b[38;5;124;03m\"\"\"\u001b[39;00m\n\u001b[1;32m   4818\u001b[0m \u001b[38;5;124;03m    Drop specified labels from rows or columns.\u001b[39;00m\n\u001b[1;32m   4819\u001b[0m \n\u001b[0;32m   (...)\u001b[0m\n\u001b[1;32m   4952\u001b[0m \u001b[38;5;124;03m            weight  1.0     0.8\u001b[39;00m\n\u001b[1;32m   4953\u001b[0m \u001b[38;5;124;03m    \"\"\"\u001b[39;00m\n\u001b[0;32m-> 4954\u001b[0m     \u001b[38;5;28;01mreturn\u001b[39;00m \u001b[38;5;28;43msuper\u001b[39;49m\u001b[43m(\u001b[49m\u001b[43m)\u001b[49m\u001b[38;5;241;43m.\u001b[39;49m\u001b[43mdrop\u001b[49m\u001b[43m(\u001b[49m\n\u001b[1;32m   4955\u001b[0m \u001b[43m        \u001b[49m\u001b[43mlabels\u001b[49m\u001b[38;5;241;43m=\u001b[39;49m\u001b[43mlabels\u001b[49m\u001b[43m,\u001b[49m\n\u001b[1;32m   4956\u001b[0m \u001b[43m        \u001b[49m\u001b[43maxis\u001b[49m\u001b[38;5;241;43m=\u001b[39;49m\u001b[43maxis\u001b[49m\u001b[43m,\u001b[49m\n\u001b[1;32m   4957\u001b[0m \u001b[43m        \u001b[49m\u001b[43mindex\u001b[49m\u001b[38;5;241;43m=\u001b[39;49m\u001b[43mindex\u001b[49m\u001b[43m,\u001b[49m\n\u001b[1;32m   4958\u001b[0m \u001b[43m        \u001b[49m\u001b[43mcolumns\u001b[49m\u001b[38;5;241;43m=\u001b[39;49m\u001b[43mcolumns\u001b[49m\u001b[43m,\u001b[49m\n\u001b[1;32m   4959\u001b[0m \u001b[43m        \u001b[49m\u001b[43mlevel\u001b[49m\u001b[38;5;241;43m=\u001b[39;49m\u001b[43mlevel\u001b[49m\u001b[43m,\u001b[49m\n\u001b[1;32m   4960\u001b[0m \u001b[43m        \u001b[49m\u001b[43minplace\u001b[49m\u001b[38;5;241;43m=\u001b[39;49m\u001b[43minplace\u001b[49m\u001b[43m,\u001b[49m\n\u001b[1;32m   4961\u001b[0m \u001b[43m        \u001b[49m\u001b[43merrors\u001b[49m\u001b[38;5;241;43m=\u001b[39;49m\u001b[43merrors\u001b[49m\u001b[43m,\u001b[49m\n\u001b[1;32m   4962\u001b[0m \u001b[43m    \u001b[49m\u001b[43m)\u001b[49m\n",
      "File \u001b[0;32m/opt/conda/lib/python3.10/site-packages/pandas/core/generic.py:4267\u001b[0m, in \u001b[0;36mNDFrame.drop\u001b[0;34m(self, labels, axis, index, columns, level, inplace, errors)\u001b[0m\n\u001b[1;32m   4265\u001b[0m \u001b[38;5;28;01mfor\u001b[39;00m axis, labels \u001b[38;5;129;01min\u001b[39;00m axes\u001b[38;5;241m.\u001b[39mitems():\n\u001b[1;32m   4266\u001b[0m     \u001b[38;5;28;01mif\u001b[39;00m labels \u001b[38;5;129;01mis\u001b[39;00m \u001b[38;5;129;01mnot\u001b[39;00m \u001b[38;5;28;01mNone\u001b[39;00m:\n\u001b[0;32m-> 4267\u001b[0m         obj \u001b[38;5;241m=\u001b[39m \u001b[43mobj\u001b[49m\u001b[38;5;241;43m.\u001b[39;49m\u001b[43m_drop_axis\u001b[49m\u001b[43m(\u001b[49m\u001b[43mlabels\u001b[49m\u001b[43m,\u001b[49m\u001b[43m \u001b[49m\u001b[43maxis\u001b[49m\u001b[43m,\u001b[49m\u001b[43m \u001b[49m\u001b[43mlevel\u001b[49m\u001b[38;5;241;43m=\u001b[39;49m\u001b[43mlevel\u001b[49m\u001b[43m,\u001b[49m\u001b[43m \u001b[49m\u001b[43merrors\u001b[49m\u001b[38;5;241;43m=\u001b[39;49m\u001b[43merrors\u001b[49m\u001b[43m)\u001b[49m\n\u001b[1;32m   4269\u001b[0m \u001b[38;5;28;01mif\u001b[39;00m inplace:\n\u001b[1;32m   4270\u001b[0m     \u001b[38;5;28mself\u001b[39m\u001b[38;5;241m.\u001b[39m_update_inplace(obj)\n",
      "File \u001b[0;32m/opt/conda/lib/python3.10/site-packages/pandas/core/generic.py:4311\u001b[0m, in \u001b[0;36mNDFrame._drop_axis\u001b[0;34m(self, labels, axis, level, errors, consolidate, only_slice)\u001b[0m\n\u001b[1;32m   4309\u001b[0m         new_axis \u001b[38;5;241m=\u001b[39m axis\u001b[38;5;241m.\u001b[39mdrop(labels, level\u001b[38;5;241m=\u001b[39mlevel, errors\u001b[38;5;241m=\u001b[39merrors)\n\u001b[1;32m   4310\u001b[0m     \u001b[38;5;28;01melse\u001b[39;00m:\n\u001b[0;32m-> 4311\u001b[0m         new_axis \u001b[38;5;241m=\u001b[39m \u001b[43maxis\u001b[49m\u001b[38;5;241;43m.\u001b[39;49m\u001b[43mdrop\u001b[49m\u001b[43m(\u001b[49m\u001b[43mlabels\u001b[49m\u001b[43m,\u001b[49m\u001b[43m \u001b[49m\u001b[43merrors\u001b[49m\u001b[38;5;241;43m=\u001b[39;49m\u001b[43merrors\u001b[49m\u001b[43m)\u001b[49m\n\u001b[1;32m   4312\u001b[0m     indexer \u001b[38;5;241m=\u001b[39m axis\u001b[38;5;241m.\u001b[39mget_indexer(new_axis)\n\u001b[1;32m   4314\u001b[0m \u001b[38;5;66;03m# Case for non-unique axis\u001b[39;00m\n\u001b[1;32m   4315\u001b[0m \u001b[38;5;28;01melse\u001b[39;00m:\n",
      "File \u001b[0;32m/opt/conda/lib/python3.10/site-packages/pandas/core/indexes/base.py:6644\u001b[0m, in \u001b[0;36mIndex.drop\u001b[0;34m(self, labels, errors)\u001b[0m\n\u001b[1;32m   6642\u001b[0m \u001b[38;5;28;01mif\u001b[39;00m mask\u001b[38;5;241m.\u001b[39many():\n\u001b[1;32m   6643\u001b[0m     \u001b[38;5;28;01mif\u001b[39;00m errors \u001b[38;5;241m!=\u001b[39m \u001b[38;5;124m\"\u001b[39m\u001b[38;5;124mignore\u001b[39m\u001b[38;5;124m\"\u001b[39m:\n\u001b[0;32m-> 6644\u001b[0m         \u001b[38;5;28;01mraise\u001b[39;00m \u001b[38;5;167;01mKeyError\u001b[39;00m(\u001b[38;5;124mf\u001b[39m\u001b[38;5;124m\"\u001b[39m\u001b[38;5;132;01m{\u001b[39;00m\u001b[38;5;28mlist\u001b[39m(labels[mask])\u001b[38;5;132;01m}\u001b[39;00m\u001b[38;5;124m not found in axis\u001b[39m\u001b[38;5;124m\"\u001b[39m)\n\u001b[1;32m   6645\u001b[0m     indexer \u001b[38;5;241m=\u001b[39m indexer[\u001b[38;5;241m~\u001b[39mmask]\n\u001b[1;32m   6646\u001b[0m \u001b[38;5;28;01mreturn\u001b[39;00m \u001b[38;5;28mself\u001b[39m\u001b[38;5;241m.\u001b[39mdelete(indexer)\n",
      "\u001b[0;31mKeyError\u001b[0m: \"['license'] not found in axis\""
     ]
    }
   ],
   "source": [
    "to_drop = ['license']\n",
    "df.drop(to_drop, inplace=True, axis = 1)"
   ]
  },
  {
   "cell_type": "code",
   "execution_count": 15,
   "id": "e4cc03ea-37d5-4785-b2ea-1d75023b2232",
   "metadata": {},
   "outputs": [
    {
     "data": {
      "text/plain": [
       "<bound method NDFrame.head of                        id                                          name  \\\n",
       "0                  106332              Lovely large room, Bethnal Green   \n",
       "1                   13913           Holiday London DB Room Let-on going   \n",
       "2                  284532           COSY STUDIO-FLAT WITH A GREAT  VIEW   \n",
       "3                  107048          A Luxury Studio Suite in Clerkenwell   \n",
       "4                  284603           Notting Hill church stay in Heaven!   \n",
       "...                   ...                                           ...   \n",
       "69346             9671724            Cozy room in Greenwich, river view   \n",
       "69347            20277958                        River view Tate Modern   \n",
       "69348            20512703  Luxury 4 bed house, 100m to river and palace   \n",
       "69349            49698549                       Waterfront Hampton Stay   \n",
       "69350  554172169432589107  GuestReady Gorgeous Bright 2 Br Apartment in   \n",
       "\n",
       "         host_id       host_name  neighbourhood_group           neighbourhood  \\\n",
       "0         264345           Susie                  NaN           Tower Hamlets   \n",
       "1          54730           Alina                  NaN               Islington   \n",
       "2        1481412            Luca                  NaN           Tower Hamlets   \n",
       "3         259088           Simon                  NaN               Islington   \n",
       "4        1481851           Tania                  NaN  Kensington and Chelsea   \n",
       "...          ...             ...                  ...                     ...   \n",
       "69346   49977905            Kurt                  NaN               Greenwich   \n",
       "69347    1132775            Mark                  NaN               Southwark   \n",
       "69348    1706966  Asher & Aileen                  NaN    Richmond upon Thames   \n",
       "69349   34213667            Alan                  NaN    Richmond upon Thames   \n",
       "69350  402191311      GuestReady                  NaN               Greenwich   \n",
       "\n",
       "       latitude  longitude        room_type  price  minimum_nights  \\\n",
       "0      51.52874   -0.05396     Private room     55               3   \n",
       "1      51.56861   -0.11270     Private room     50               1   \n",
       "2      51.52851   -0.07426  Entire home/apt     90               5   \n",
       "3      51.52478   -0.10484     Private room    180               4   \n",
       "4      51.51464   -0.20004  Entire home/apt    297              14   \n",
       "...         ...        ...              ...    ...             ...   \n",
       "69346  51.48300   -0.01346     Private room     55               5   \n",
       "69347  51.50914   -0.10192  Entire home/apt    201               3   \n",
       "69348  51.40571   -0.35325  Entire home/apt    246               3   \n",
       "69349  51.41029   -0.35975  Entire home/apt    250               3   \n",
       "69350  51.50183    0.00862  Entire home/apt    134               2   \n",
       "\n",
       "       number_of_reviews last_review  reviews_per_month  \\\n",
       "0                     65  2016-06-10               0.47   \n",
       "1                     30  2022-07-15               0.20   \n",
       "2                     42  2022-01-04               0.34   \n",
       "3                    493  2022-09-02               3.59   \n",
       "4                      6  2022-07-04               0.05   \n",
       "...                  ...         ...                ...   \n",
       "69346                 67  2021-10-03               0.84   \n",
       "69347                 61  2022-09-09               0.99   \n",
       "69348                  6  2022-08-31               1.49   \n",
       "69349                  9  2022-07-18               0.61   \n",
       "69350                 17  2022-06-20               2.45   \n",
       "\n",
       "       calculated_host_listings_count  availability_365  number_of_reviews_ltm  \n",
       "0                                   1                74                      0  \n",
       "1                                   2               343                      9  \n",
       "2                                   1               222                      1  \n",
       "3                                   5               236                     20  \n",
       "4                                   1               180                      2  \n",
       "...                               ...               ...                    ...  \n",
       "69346                               3                 0                      1  \n",
       "69347                               1                 0                     12  \n",
       "69348                               1                 4                      6  \n",
       "69349                               1                 2                      4  \n",
       "69350                             101                85                     17  \n",
       "\n",
       "[69351 rows x 17 columns]>"
      ]
     },
     "execution_count": 15,
     "metadata": {},
     "output_type": "execute_result"
    }
   ],
   "source": [
    "df.head"
   ]
  },
  {
   "cell_type": "code",
   "execution_count": 17,
   "id": "7988b08c-6982-4745-b607-47f2ce4dd0ad",
   "metadata": {},
   "outputs": [],
   "source": [
    "to_drop1 = ['neighbourhood_group']\n",
    "df.drop(to_drop1, inplace=True, axis = 1)"
   ]
  },
  {
   "cell_type": "code",
   "execution_count": 18,
   "id": "928bb515-1af5-4c28-b17b-be96dc1b959c",
   "metadata": {},
   "outputs": [
    {
     "data": {
      "text/plain": [
       "<bound method NDFrame.head of                        id                                          name  \\\n",
       "0                  106332              Lovely large room, Bethnal Green   \n",
       "1                   13913           Holiday London DB Room Let-on going   \n",
       "2                  284532           COSY STUDIO-FLAT WITH A GREAT  VIEW   \n",
       "3                  107048          A Luxury Studio Suite in Clerkenwell   \n",
       "4                  284603           Notting Hill church stay in Heaven!   \n",
       "...                   ...                                           ...   \n",
       "69346             9671724            Cozy room in Greenwich, river view   \n",
       "69347            20277958                        River view Tate Modern   \n",
       "69348            20512703  Luxury 4 bed house, 100m to river and palace   \n",
       "69349            49698549                       Waterfront Hampton Stay   \n",
       "69350  554172169432589107  GuestReady Gorgeous Bright 2 Br Apartment in   \n",
       "\n",
       "         host_id       host_name           neighbourhood  latitude  longitude  \\\n",
       "0         264345           Susie           Tower Hamlets  51.52874   -0.05396   \n",
       "1          54730           Alina               Islington  51.56861   -0.11270   \n",
       "2        1481412            Luca           Tower Hamlets  51.52851   -0.07426   \n",
       "3         259088           Simon               Islington  51.52478   -0.10484   \n",
       "4        1481851           Tania  Kensington and Chelsea  51.51464   -0.20004   \n",
       "...          ...             ...                     ...       ...        ...   \n",
       "69346   49977905            Kurt               Greenwich  51.48300   -0.01346   \n",
       "69347    1132775            Mark               Southwark  51.50914   -0.10192   \n",
       "69348    1706966  Asher & Aileen    Richmond upon Thames  51.40571   -0.35325   \n",
       "69349   34213667            Alan    Richmond upon Thames  51.41029   -0.35975   \n",
       "69350  402191311      GuestReady               Greenwich  51.50183    0.00862   \n",
       "\n",
       "             room_type  price  minimum_nights  number_of_reviews last_review  \\\n",
       "0         Private room     55               3                 65  2016-06-10   \n",
       "1         Private room     50               1                 30  2022-07-15   \n",
       "2      Entire home/apt     90               5                 42  2022-01-04   \n",
       "3         Private room    180               4                493  2022-09-02   \n",
       "4      Entire home/apt    297              14                  6  2022-07-04   \n",
       "...                ...    ...             ...                ...         ...   \n",
       "69346     Private room     55               5                 67  2021-10-03   \n",
       "69347  Entire home/apt    201               3                 61  2022-09-09   \n",
       "69348  Entire home/apt    246               3                  6  2022-08-31   \n",
       "69349  Entire home/apt    250               3                  9  2022-07-18   \n",
       "69350  Entire home/apt    134               2                 17  2022-06-20   \n",
       "\n",
       "       reviews_per_month  calculated_host_listings_count  availability_365  \\\n",
       "0                   0.47                               1                74   \n",
       "1                   0.20                               2               343   \n",
       "2                   0.34                               1               222   \n",
       "3                   3.59                               5               236   \n",
       "4                   0.05                               1               180   \n",
       "...                  ...                             ...               ...   \n",
       "69346               0.84                               3                 0   \n",
       "69347               0.99                               1                 0   \n",
       "69348               1.49                               1                 4   \n",
       "69349               0.61                               1                 2   \n",
       "69350               2.45                             101                85   \n",
       "\n",
       "       number_of_reviews_ltm  \n",
       "0                          0  \n",
       "1                          9  \n",
       "2                          1  \n",
       "3                         20  \n",
       "4                          2  \n",
       "...                      ...  \n",
       "69346                      1  \n",
       "69347                     12  \n",
       "69348                      6  \n",
       "69349                      4  \n",
       "69350                     17  \n",
       "\n",
       "[69351 rows x 16 columns]>"
      ]
     },
     "execution_count": 18,
     "metadata": {},
     "output_type": "execute_result"
    }
   ],
   "source": [
    "df.head"
   ]
  },
  {
   "cell_type": "code",
   "execution_count": 19,
   "id": "ea068718-33db-4ca6-ac57-bb3fc723a8f9",
   "metadata": {},
   "outputs": [
    {
     "name": "stdout",
     "output_type": "stream",
     "text": [
      "11.987498377817191\n"
     ]
    }
   ],
   "source": [
    "dfchlc = df[\"calculated_host_listings_count\"].mean()\n",
    "print(dfchlc)"
   ]
  },
  {
   "cell_type": "code",
   "execution_count": 20,
   "id": "133d77e0-97c2-4d8e-83f1-eea5e6bc039e",
   "metadata": {},
   "outputs": [
    {
     "name": "stdout",
     "output_type": "stream",
     "text": [
      "<class 'pandas.core.frame.DataFrame'>\n",
      "RangeIndex: 69351 entries, 0 to 69350\n",
      "Data columns (total 16 columns):\n",
      " #   Column                          Non-Null Count  Dtype  \n",
      "---  ------                          --------------  -----  \n",
      " 0   id                              69351 non-null  int64  \n",
      " 1   name                            69330 non-null  object \n",
      " 2   host_id                         69351 non-null  int64  \n",
      " 3   host_name                       69346 non-null  object \n",
      " 4   neighbourhood                   69351 non-null  object \n",
      " 5   latitude                        69351 non-null  float64\n",
      " 6   longitude                       69351 non-null  float64\n",
      " 7   room_type                       69351 non-null  object \n",
      " 8   price                           69351 non-null  int64  \n",
      " 9   minimum_nights                  69351 non-null  int64  \n",
      " 10  number_of_reviews               69351 non-null  int64  \n",
      " 11  last_review                     52571 non-null  object \n",
      " 12  reviews_per_month               52571 non-null  float64\n",
      " 13  calculated_host_listings_count  69351 non-null  int64  \n",
      " 14  availability_365                69351 non-null  int64  \n",
      " 15  number_of_reviews_ltm           69351 non-null  int64  \n",
      "dtypes: float64(3), int64(8), object(5)\n",
      "memory usage: 8.5+ MB\n"
     ]
    }
   ],
   "source": [
    "df.info(verbose=True)"
   ]
  },
  {
   "cell_type": "code",
   "execution_count": 21,
   "id": "24fe54fc-87fe-4315-a766-1c002f643b46",
   "metadata": {},
   "outputs": [
    {
     "name": "stdout",
     "output_type": "stream",
     "text": [
      "['id', 'name', 'host_id', 'host_name', 'neighbourhood', 'latitude', 'longitude', 'room_type', 'price', 'minimum_nights', 'number_of_reviews', 'last_review', 'reviews_per_month', 'calculated_host_listings_count', 'availability_365', 'number_of_reviews_ltm']\n"
     ]
    }
   ],
   "source": [
    "print(df.columns.to_list())"
   ]
  },
  {
   "cell_type": "code",
   "execution_count": 22,
   "id": "ecf55a93-1225-4e7b-9512-e76171aaf33d",
   "metadata": {},
   "outputs": [],
   "source": [
    "cols = ['id', 'name', 'host_id', 'host_name', 'neighbourhood', 'latitude', 'longitude', 'room_type', 'price', 'minimum_nights', 'calculated_host_listings_count', 'availability_365']  "
   ]
  },
  {
   "cell_type": "code",
   "execution_count": 26,
   "id": "93dbf8d6-0889-4740-a659-1531d91fd4d0",
   "metadata": {},
   "outputs": [
    {
     "data": {
      "text/html": [
       "<div>\n",
       "<style scoped>\n",
       "    .dataframe tbody tr th:only-of-type {\n",
       "        vertical-align: middle;\n",
       "    }\n",
       "\n",
       "    .dataframe tbody tr th {\n",
       "        vertical-align: top;\n",
       "    }\n",
       "\n",
       "    .dataframe thead th {\n",
       "        text-align: right;\n",
       "    }\n",
       "</style>\n",
       "<table border=\"1\" class=\"dataframe\">\n",
       "  <thead>\n",
       "    <tr style=\"text-align: right;\">\n",
       "      <th></th>\n",
       "      <th>id</th>\n",
       "      <th>name</th>\n",
       "      <th>host_id</th>\n",
       "      <th>host_name</th>\n",
       "      <th>neighbourhood</th>\n",
       "      <th>latitude</th>\n",
       "      <th>longitude</th>\n",
       "      <th>room_type</th>\n",
       "      <th>price</th>\n",
       "      <th>minimum_nights</th>\n",
       "      <th>number_of_reviews</th>\n",
       "      <th>last_review</th>\n",
       "      <th>reviews_per_month</th>\n",
       "      <th>calculated_host_listings_count</th>\n",
       "      <th>availability_365</th>\n",
       "      <th>number_of_reviews_ltm</th>\n",
       "    </tr>\n",
       "  </thead>\n",
       "  <tbody>\n",
       "    <tr>\n",
       "      <th>40350</th>\n",
       "      <td>40129235</td>\n",
       "      <td>A newly renovated family home in South West Lo...</td>\n",
       "      <td>10531947</td>\n",
       "      <td>Sandra</td>\n",
       "      <td>Wandsworth</td>\n",
       "      <td>51.43536</td>\n",
       "      <td>-0.18234</td>\n",
       "      <td>Entire home/apt</td>\n",
       "      <td>150</td>\n",
       "      <td>6</td>\n",
       "      <td>2</td>\n",
       "      <td>2022-08-06</td>\n",
       "      <td>0.24</td>\n",
       "      <td>1</td>\n",
       "      <td>26</td>\n",
       "      <td>2</td>\n",
       "    </tr>\n",
       "    <tr>\n",
       "      <th>18013</th>\n",
       "      <td>18752103</td>\n",
       "      <td>Cosy, Modern and Stylish 2BR in Central London</td>\n",
       "      <td>130459512</td>\n",
       "      <td>Barbora</td>\n",
       "      <td>Southwark</td>\n",
       "      <td>51.49361</td>\n",
       "      <td>-0.08899</td>\n",
       "      <td>Entire home/apt</td>\n",
       "      <td>145</td>\n",
       "      <td>4</td>\n",
       "      <td>8</td>\n",
       "      <td>2020-01-04</td>\n",
       "      <td>0.13</td>\n",
       "      <td>1</td>\n",
       "      <td>0</td>\n",
       "      <td>0</td>\n",
       "    </tr>\n",
       "    <tr>\n",
       "      <th>14276</th>\n",
       "      <td>15355325</td>\n",
       "      <td>Two bedroom two bathroom serviced apartment in...</td>\n",
       "      <td>9063235</td>\n",
       "      <td>Executive Roomspace</td>\n",
       "      <td>Hounslow</td>\n",
       "      <td>51.48815</td>\n",
       "      <td>-0.28598</td>\n",
       "      <td>Entire home/apt</td>\n",
       "      <td>208</td>\n",
       "      <td>3</td>\n",
       "      <td>2</td>\n",
       "      <td>2022-07-03</td>\n",
       "      <td>0.03</td>\n",
       "      <td>79</td>\n",
       "      <td>0</td>\n",
       "      <td>1</td>\n",
       "    </tr>\n",
       "  </tbody>\n",
       "</table>\n",
       "</div>"
      ],
      "text/plain": [
       "             id                                               name    host_id  \\\n",
       "40350  40129235  A newly renovated family home in South West Lo...   10531947   \n",
       "18013  18752103     Cosy, Modern and Stylish 2BR in Central London  130459512   \n",
       "14276  15355325  Two bedroom two bathroom serviced apartment in...    9063235   \n",
       "\n",
       "                 host_name neighbourhood  latitude  longitude  \\\n",
       "40350               Sandra    Wandsworth  51.43536   -0.18234   \n",
       "18013              Barbora     Southwark  51.49361   -0.08899   \n",
       "14276  Executive Roomspace      Hounslow  51.48815   -0.28598   \n",
       "\n",
       "             room_type  price  minimum_nights  number_of_reviews last_review  \\\n",
       "40350  Entire home/apt    150               6                  2  2022-08-06   \n",
       "18013  Entire home/apt    145               4                  8  2020-01-04   \n",
       "14276  Entire home/apt    208               3                  2  2022-07-03   \n",
       "\n",
       "       reviews_per_month  calculated_host_listings_count  availability_365  \\\n",
       "40350               0.24                               1                26   \n",
       "18013               0.13                               1                 0   \n",
       "14276               0.03                              79                 0   \n",
       "\n",
       "       number_of_reviews_ltm  \n",
       "40350                      2  \n",
       "18013                      0  \n",
       "14276                      1  "
      ]
     },
     "execution_count": 26,
     "metadata": {},
     "output_type": "execute_result"
    }
   ],
   "source": [
    "df.sample(3)"
   ]
  },
  {
   "cell_type": "code",
   "execution_count": null,
   "id": "b4dd06c1-84dc-42b5-a42d-8cadc70525fd",
   "metadata": {},
   "outputs": [],
   "source": []
  }
 ],
 "metadata": {
  "kernelspec": {
   "display_name": "Python 3 (ipykernel)",
   "language": "python",
   "name": "python3"
  },
  "language_info": {
   "codemirror_mode": {
    "name": "ipython",
    "version": 3
   },
   "file_extension": ".py",
   "mimetype": "text/x-python",
   "name": "python",
   "nbconvert_exporter": "python",
   "pygments_lexer": "ipython3",
   "version": "3.10.5"
  }
 },
 "nbformat": 4,
 "nbformat_minor": 5
}
