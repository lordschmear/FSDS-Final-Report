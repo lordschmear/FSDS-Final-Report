{
 "cells": [
  {
   "cell_type": "code",
   "execution_count": 1,
   "id": "b118de46-13db-408d-86f2-8b7da685b50d",
   "metadata": {},
   "outputs": [],
   "source": [
    "# Working on this - Diego #"
   ]
  },
  {
   "cell_type": "code",
   "execution_count": 2,
   "id": "4e1a9cb9-c29a-406c-ad86-6134aadbbdf3",
   "metadata": {},
   "outputs": [
    {
     "name": "stderr",
     "output_type": "stream",
     "text": [
      "<jemalloc>: MADV_DONTNEED does not work (memset will be used instead)\n",
      "<jemalloc>: (This is the expected behaviour if you are running under QEMU)\n"
     ]
    }
   ],
   "source": [
    "import os\n",
    "import re \n",
    "import numpy as np\n",
    "import pandas as pd\n",
    "import geopandas as gpd\n",
    "import matplotlib as plt\n",
    "import seaborn as sns"
   ]
  },
  {
   "cell_type": "code",
   "execution_count": 3,
   "id": "4c40abf4-f5e9-44c0-ab5e-f85a8c243f3d",
   "metadata": {},
   "outputs": [],
   "source": [
    "# Downloaded listings.csv from Inside AirBNB on Saturday, December 24th #\n",
    "df = pd.read_csv('listingsdec24.csv')"
   ]
  },
  {
   "cell_type": "code",
   "execution_count": 4,
   "id": "3180ac1e-7376-4190-a63c-e66a79a8ef4f",
   "metadata": {},
   "outputs": [],
   "source": [
    "df1 = pd.read_csv('neighbourhoods.csv')"
   ]
  },
  {
   "cell_type": "code",
   "execution_count": 5,
   "id": "0e72f17f-7f61-4058-907a-6a097476fd81",
   "metadata": {},
   "outputs": [
    {
     "name": "stdout",
     "output_type": "stream",
     "text": [
      "['id' 'name' 'host_id' 'host_name' 'neighbourhood_group' 'neighbourhood'\n",
      " 'latitude' 'longitude' 'room_type' 'price' 'minimum_nights'\n",
      " 'number_of_reviews' 'last_review' 'reviews_per_month'\n",
      " 'calculated_host_listings_count' 'availability_365'\n",
      " 'number_of_reviews_ltm' 'license']\n"
     ]
    }
   ],
   "source": [
    "print(df.columns.values)"
   ]
  },
  {
   "cell_type": "code",
   "execution_count": 6,
   "id": "9f9857ce-bef3-44dc-9671-428c904bcbbf",
   "metadata": {},
   "outputs": [
    {
     "data": {
      "text/plain": [
       "<bound method NDFrame.describe of                        id                                          name  \\\n",
       "0                  106332              Lovely large room, Bethnal Green   \n",
       "1                   13913           Holiday London DB Room Let-on going   \n",
       "2                  284532           COSY STUDIO-FLAT WITH A GREAT  VIEW   \n",
       "3                  107048          A Luxury Studio Suite in Clerkenwell   \n",
       "4                  284603           Notting Hill church stay in Heaven!   \n",
       "...                   ...                                           ...   \n",
       "69346             9671724            Cozy room in Greenwich, river view   \n",
       "69347            20277958                        River view Tate Modern   \n",
       "69348            20512703  Luxury 4 bed house, 100m to river and palace   \n",
       "69349            49698549                       Waterfront Hampton Stay   \n",
       "69350  554172169432589107  GuestReady Gorgeous Bright 2 Br Apartment in   \n",
       "\n",
       "         host_id       host_name  neighbourhood_group           neighbourhood  \\\n",
       "0         264345           Susie                  NaN           Tower Hamlets   \n",
       "1          54730           Alina                  NaN               Islington   \n",
       "2        1481412            Luca                  NaN           Tower Hamlets   \n",
       "3         259088           Simon                  NaN               Islington   \n",
       "4        1481851           Tania                  NaN  Kensington and Chelsea   \n",
       "...          ...             ...                  ...                     ...   \n",
       "69346   49977905            Kurt                  NaN               Greenwich   \n",
       "69347    1132775            Mark                  NaN               Southwark   \n",
       "69348    1706966  Asher & Aileen                  NaN    Richmond upon Thames   \n",
       "69349   34213667            Alan                  NaN    Richmond upon Thames   \n",
       "69350  402191311      GuestReady                  NaN               Greenwich   \n",
       "\n",
       "       latitude  longitude        room_type  price  minimum_nights  \\\n",
       "0      51.52874   -0.05396     Private room     55               3   \n",
       "1      51.56861   -0.11270     Private room     50               1   \n",
       "2      51.52851   -0.07426  Entire home/apt     90               5   \n",
       "3      51.52478   -0.10484     Private room    180               4   \n",
       "4      51.51464   -0.20004  Entire home/apt    297              14   \n",
       "...         ...        ...              ...    ...             ...   \n",
       "69346  51.48300   -0.01346     Private room     55               5   \n",
       "69347  51.50914   -0.10192  Entire home/apt    201               3   \n",
       "69348  51.40571   -0.35325  Entire home/apt    246               3   \n",
       "69349  51.41029   -0.35975  Entire home/apt    250               3   \n",
       "69350  51.50183    0.00862  Entire home/apt    134               2   \n",
       "\n",
       "       number_of_reviews last_review  reviews_per_month  \\\n",
       "0                     65  2016-06-10               0.47   \n",
       "1                     30  2022-07-15               0.20   \n",
       "2                     42  2022-01-04               0.34   \n",
       "3                    493  2022-09-02               3.59   \n",
       "4                      6  2022-07-04               0.05   \n",
       "...                  ...         ...                ...   \n",
       "69346                 67  2021-10-03               0.84   \n",
       "69347                 61  2022-09-09               0.99   \n",
       "69348                  6  2022-08-31               1.49   \n",
       "69349                  9  2022-07-18               0.61   \n",
       "69350                 17  2022-06-20               2.45   \n",
       "\n",
       "       calculated_host_listings_count  availability_365  \\\n",
       "0                                   1                74   \n",
       "1                                   2               343   \n",
       "2                                   1               222   \n",
       "3                                   5               236   \n",
       "4                                   1               180   \n",
       "...                               ...               ...   \n",
       "69346                               3                 0   \n",
       "69347                               1                 0   \n",
       "69348                               1                 4   \n",
       "69349                               1                 2   \n",
       "69350                             101                85   \n",
       "\n",
       "       number_of_reviews_ltm  license  \n",
       "0                          0      NaN  \n",
       "1                          9      NaN  \n",
       "2                          1      NaN  \n",
       "3                         20      NaN  \n",
       "4                          2      NaN  \n",
       "...                      ...      ...  \n",
       "69346                      1      NaN  \n",
       "69347                     12      NaN  \n",
       "69348                      6      NaN  \n",
       "69349                      4      NaN  \n",
       "69350                     17      NaN  \n",
       "\n",
       "[69351 rows x 18 columns]>"
      ]
     },
     "execution_count": 6,
     "metadata": {},
     "output_type": "execute_result"
    }
   ],
   "source": [
    "df.describe"
   ]
  },
  {
   "cell_type": "code",
   "execution_count": 7,
   "id": "9754d673-aad2-41c0-9be7-a66922a899fc",
   "metadata": {},
   "outputs": [],
   "source": [
    "to_drop = ['license']\n",
    "df.drop(to_drop, inplace=True, axis = 1)"
   ]
  },
  {
   "cell_type": "code",
   "execution_count": 8,
   "id": "e4cc03ea-37d5-4785-b2ea-1d75023b2232",
   "metadata": {},
   "outputs": [
    {
     "data": {
      "text/plain": [
       "<bound method NDFrame.head of                        id                                          name  \\\n",
       "0                  106332              Lovely large room, Bethnal Green   \n",
       "1                   13913           Holiday London DB Room Let-on going   \n",
       "2                  284532           COSY STUDIO-FLAT WITH A GREAT  VIEW   \n",
       "3                  107048          A Luxury Studio Suite in Clerkenwell   \n",
       "4                  284603           Notting Hill church stay in Heaven!   \n",
       "...                   ...                                           ...   \n",
       "69346             9671724            Cozy room in Greenwich, river view   \n",
       "69347            20277958                        River view Tate Modern   \n",
       "69348            20512703  Luxury 4 bed house, 100m to river and palace   \n",
       "69349            49698549                       Waterfront Hampton Stay   \n",
       "69350  554172169432589107  GuestReady Gorgeous Bright 2 Br Apartment in   \n",
       "\n",
       "         host_id       host_name  neighbourhood_group           neighbourhood  \\\n",
       "0         264345           Susie                  NaN           Tower Hamlets   \n",
       "1          54730           Alina                  NaN               Islington   \n",
       "2        1481412            Luca                  NaN           Tower Hamlets   \n",
       "3         259088           Simon                  NaN               Islington   \n",
       "4        1481851           Tania                  NaN  Kensington and Chelsea   \n",
       "...          ...             ...                  ...                     ...   \n",
       "69346   49977905            Kurt                  NaN               Greenwich   \n",
       "69347    1132775            Mark                  NaN               Southwark   \n",
       "69348    1706966  Asher & Aileen                  NaN    Richmond upon Thames   \n",
       "69349   34213667            Alan                  NaN    Richmond upon Thames   \n",
       "69350  402191311      GuestReady                  NaN               Greenwich   \n",
       "\n",
       "       latitude  longitude        room_type  price  minimum_nights  \\\n",
       "0      51.52874   -0.05396     Private room     55               3   \n",
       "1      51.56861   -0.11270     Private room     50               1   \n",
       "2      51.52851   -0.07426  Entire home/apt     90               5   \n",
       "3      51.52478   -0.10484     Private room    180               4   \n",
       "4      51.51464   -0.20004  Entire home/apt    297              14   \n",
       "...         ...        ...              ...    ...             ...   \n",
       "69346  51.48300   -0.01346     Private room     55               5   \n",
       "69347  51.50914   -0.10192  Entire home/apt    201               3   \n",
       "69348  51.40571   -0.35325  Entire home/apt    246               3   \n",
       "69349  51.41029   -0.35975  Entire home/apt    250               3   \n",
       "69350  51.50183    0.00862  Entire home/apt    134               2   \n",
       "\n",
       "       number_of_reviews last_review  reviews_per_month  \\\n",
       "0                     65  2016-06-10               0.47   \n",
       "1                     30  2022-07-15               0.20   \n",
       "2                     42  2022-01-04               0.34   \n",
       "3                    493  2022-09-02               3.59   \n",
       "4                      6  2022-07-04               0.05   \n",
       "...                  ...         ...                ...   \n",
       "69346                 67  2021-10-03               0.84   \n",
       "69347                 61  2022-09-09               0.99   \n",
       "69348                  6  2022-08-31               1.49   \n",
       "69349                  9  2022-07-18               0.61   \n",
       "69350                 17  2022-06-20               2.45   \n",
       "\n",
       "       calculated_host_listings_count  availability_365  number_of_reviews_ltm  \n",
       "0                                   1                74                      0  \n",
       "1                                   2               343                      9  \n",
       "2                                   1               222                      1  \n",
       "3                                   5               236                     20  \n",
       "4                                   1               180                      2  \n",
       "...                               ...               ...                    ...  \n",
       "69346                               3                 0                      1  \n",
       "69347                               1                 0                     12  \n",
       "69348                               1                 4                      6  \n",
       "69349                               1                 2                      4  \n",
       "69350                             101                85                     17  \n",
       "\n",
       "[69351 rows x 17 columns]>"
      ]
     },
     "execution_count": 8,
     "metadata": {},
     "output_type": "execute_result"
    }
   ],
   "source": [
    "df.head"
   ]
  },
  {
   "cell_type": "code",
   "execution_count": 9,
   "id": "7988b08c-6982-4745-b607-47f2ce4dd0ad",
   "metadata": {},
   "outputs": [],
   "source": [
    "to_drop1 = ['neighbourhood_group']\n",
    "df.drop(to_drop1, inplace=True, axis = 1)"
   ]
  },
  {
   "cell_type": "code",
   "execution_count": 10,
   "id": "928bb515-1af5-4c28-b17b-be96dc1b959c",
   "metadata": {},
   "outputs": [
    {
     "data": {
      "text/plain": [
       "<bound method NDFrame.head of                        id                                          name  \\\n",
       "0                  106332              Lovely large room, Bethnal Green   \n",
       "1                   13913           Holiday London DB Room Let-on going   \n",
       "2                  284532           COSY STUDIO-FLAT WITH A GREAT  VIEW   \n",
       "3                  107048          A Luxury Studio Suite in Clerkenwell   \n",
       "4                  284603           Notting Hill church stay in Heaven!   \n",
       "...                   ...                                           ...   \n",
       "69346             9671724            Cozy room in Greenwich, river view   \n",
       "69347            20277958                        River view Tate Modern   \n",
       "69348            20512703  Luxury 4 bed house, 100m to river and palace   \n",
       "69349            49698549                       Waterfront Hampton Stay   \n",
       "69350  554172169432589107  GuestReady Gorgeous Bright 2 Br Apartment in   \n",
       "\n",
       "         host_id       host_name           neighbourhood  latitude  longitude  \\\n",
       "0         264345           Susie           Tower Hamlets  51.52874   -0.05396   \n",
       "1          54730           Alina               Islington  51.56861   -0.11270   \n",
       "2        1481412            Luca           Tower Hamlets  51.52851   -0.07426   \n",
       "3         259088           Simon               Islington  51.52478   -0.10484   \n",
       "4        1481851           Tania  Kensington and Chelsea  51.51464   -0.20004   \n",
       "...          ...             ...                     ...       ...        ...   \n",
       "69346   49977905            Kurt               Greenwich  51.48300   -0.01346   \n",
       "69347    1132775            Mark               Southwark  51.50914   -0.10192   \n",
       "69348    1706966  Asher & Aileen    Richmond upon Thames  51.40571   -0.35325   \n",
       "69349   34213667            Alan    Richmond upon Thames  51.41029   -0.35975   \n",
       "69350  402191311      GuestReady               Greenwich  51.50183    0.00862   \n",
       "\n",
       "             room_type  price  minimum_nights  number_of_reviews last_review  \\\n",
       "0         Private room     55               3                 65  2016-06-10   \n",
       "1         Private room     50               1                 30  2022-07-15   \n",
       "2      Entire home/apt     90               5                 42  2022-01-04   \n",
       "3         Private room    180               4                493  2022-09-02   \n",
       "4      Entire home/apt    297              14                  6  2022-07-04   \n",
       "...                ...    ...             ...                ...         ...   \n",
       "69346     Private room     55               5                 67  2021-10-03   \n",
       "69347  Entire home/apt    201               3                 61  2022-09-09   \n",
       "69348  Entire home/apt    246               3                  6  2022-08-31   \n",
       "69349  Entire home/apt    250               3                  9  2022-07-18   \n",
       "69350  Entire home/apt    134               2                 17  2022-06-20   \n",
       "\n",
       "       reviews_per_month  calculated_host_listings_count  availability_365  \\\n",
       "0                   0.47                               1                74   \n",
       "1                   0.20                               2               343   \n",
       "2                   0.34                               1               222   \n",
       "3                   3.59                               5               236   \n",
       "4                   0.05                               1               180   \n",
       "...                  ...                             ...               ...   \n",
       "69346               0.84                               3                 0   \n",
       "69347               0.99                               1                 0   \n",
       "69348               1.49                               1                 4   \n",
       "69349               0.61                               1                 2   \n",
       "69350               2.45                             101                85   \n",
       "\n",
       "       number_of_reviews_ltm  \n",
       "0                          0  \n",
       "1                          9  \n",
       "2                          1  \n",
       "3                         20  \n",
       "4                          2  \n",
       "...                      ...  \n",
       "69346                      1  \n",
       "69347                     12  \n",
       "69348                      6  \n",
       "69349                      4  \n",
       "69350                     17  \n",
       "\n",
       "[69351 rows x 16 columns]>"
      ]
     },
     "execution_count": 10,
     "metadata": {},
     "output_type": "execute_result"
    }
   ],
   "source": [
    "df.head"
   ]
  },
  {
   "cell_type": "code",
   "execution_count": 11,
   "id": "ea068718-33db-4ca6-ac57-bb3fc723a8f9",
   "metadata": {},
   "outputs": [
    {
     "name": "stdout",
     "output_type": "stream",
     "text": [
      "11.987498377817191\n"
     ]
    }
   ],
   "source": [
    "dfchlc = df[\"calculated_host_listings_count\"].mean()\n",
    "print(dfchlc)"
   ]
  },
  {
   "cell_type": "code",
   "execution_count": 12,
   "id": "133d77e0-97c2-4d8e-83f1-eea5e6bc039e",
   "metadata": {},
   "outputs": [
    {
     "name": "stdout",
     "output_type": "stream",
     "text": [
      "<class 'pandas.core.frame.DataFrame'>\n",
      "RangeIndex: 69351 entries, 0 to 69350\n",
      "Data columns (total 16 columns):\n",
      " #   Column                          Non-Null Count  Dtype  \n",
      "---  ------                          --------------  -----  \n",
      " 0   id                              69351 non-null  int64  \n",
      " 1   name                            69330 non-null  object \n",
      " 2   host_id                         69351 non-null  int64  \n",
      " 3   host_name                       69346 non-null  object \n",
      " 4   neighbourhood                   69351 non-null  object \n",
      " 5   latitude                        69351 non-null  float64\n",
      " 6   longitude                       69351 non-null  float64\n",
      " 7   room_type                       69351 non-null  object \n",
      " 8   price                           69351 non-null  int64  \n",
      " 9   minimum_nights                  69351 non-null  int64  \n",
      " 10  number_of_reviews               69351 non-null  int64  \n",
      " 11  last_review                     52571 non-null  object \n",
      " 12  reviews_per_month               52571 non-null  float64\n",
      " 13  calculated_host_listings_count  69351 non-null  int64  \n",
      " 14  availability_365                69351 non-null  int64  \n",
      " 15  number_of_reviews_ltm           69351 non-null  int64  \n",
      "dtypes: float64(3), int64(8), object(5)\n",
      "memory usage: 8.5+ MB\n"
     ]
    }
   ],
   "source": [
    "df.info(verbose=True)"
   ]
  },
  {
   "cell_type": "code",
   "execution_count": 13,
   "id": "24fe54fc-87fe-4315-a766-1c002f643b46",
   "metadata": {},
   "outputs": [
    {
     "name": "stdout",
     "output_type": "stream",
     "text": [
      "['id', 'name', 'host_id', 'host_name', 'neighbourhood', 'latitude', 'longitude', 'room_type', 'price', 'minimum_nights', 'number_of_reviews', 'last_review', 'reviews_per_month', 'calculated_host_listings_count', 'availability_365', 'number_of_reviews_ltm']\n"
     ]
    }
   ],
   "source": [
    "print(df.columns.to_list())"
   ]
  },
  {
   "cell_type": "code",
   "execution_count": 14,
   "id": "ecf55a93-1225-4e7b-9512-e76171aaf33d",
   "metadata": {},
   "outputs": [],
   "source": [
    "cols = ['id', 'name', 'host_id', 'host_name', 'neighbourhood', 'latitude', 'longitude', 'room_type', 'price', 'minimum_nights', 'calculated_host_listings_count', 'availability_365']  "
   ]
  },
  {
   "cell_type": "code",
   "execution_count": 15,
   "id": "93dbf8d6-0889-4740-a659-1531d91fd4d0",
   "metadata": {},
   "outputs": [
    {
     "data": {
      "text/html": [
       "<div>\n",
       "<style scoped>\n",
       "    .dataframe tbody tr th:only-of-type {\n",
       "        vertical-align: middle;\n",
       "    }\n",
       "\n",
       "    .dataframe tbody tr th {\n",
       "        vertical-align: top;\n",
       "    }\n",
       "\n",
       "    .dataframe thead th {\n",
       "        text-align: right;\n",
       "    }\n",
       "</style>\n",
       "<table border=\"1\" class=\"dataframe\">\n",
       "  <thead>\n",
       "    <tr style=\"text-align: right;\">\n",
       "      <th></th>\n",
       "      <th>id</th>\n",
       "      <th>name</th>\n",
       "      <th>host_id</th>\n",
       "      <th>host_name</th>\n",
       "      <th>neighbourhood</th>\n",
       "      <th>latitude</th>\n",
       "      <th>longitude</th>\n",
       "      <th>room_type</th>\n",
       "      <th>price</th>\n",
       "      <th>minimum_nights</th>\n",
       "      <th>number_of_reviews</th>\n",
       "      <th>last_review</th>\n",
       "      <th>reviews_per_month</th>\n",
       "      <th>calculated_host_listings_count</th>\n",
       "      <th>availability_365</th>\n",
       "      <th>number_of_reviews_ltm</th>\n",
       "    </tr>\n",
       "  </thead>\n",
       "  <tbody>\n",
       "    <tr>\n",
       "      <th>66049</th>\n",
       "      <td>691089916322128749</td>\n",
       "      <td>Modern 1-bedroom apartment in Kensington</td>\n",
       "      <td>346768607</td>\n",
       "      <td>Mia</td>\n",
       "      <td>Hammersmith and Fulham</td>\n",
       "      <td>51.498194</td>\n",
       "      <td>-0.212634</td>\n",
       "      <td>Entire home/apt</td>\n",
       "      <td>147</td>\n",
       "      <td>2</td>\n",
       "      <td>1</td>\n",
       "      <td>2022-08-26</td>\n",
       "      <td>1.00</td>\n",
       "      <td>1</td>\n",
       "      <td>5</td>\n",
       "      <td>1</td>\n",
       "    </tr>\n",
       "    <tr>\n",
       "      <th>32588</th>\n",
       "      <td>31840409</td>\n",
       "      <td>Luxury Two Bedroom Flat backing onto the Park</td>\n",
       "      <td>52514797</td>\n",
       "      <td>Clare</td>\n",
       "      <td>Hammersmith and Fulham</td>\n",
       "      <td>51.478440</td>\n",
       "      <td>-0.195650</td>\n",
       "      <td>Entire home/apt</td>\n",
       "      <td>311</td>\n",
       "      <td>1</td>\n",
       "      <td>57</td>\n",
       "      <td>2022-07-25</td>\n",
       "      <td>1.34</td>\n",
       "      <td>4</td>\n",
       "      <td>294</td>\n",
       "      <td>36</td>\n",
       "    </tr>\n",
       "    <tr>\n",
       "      <th>25797</th>\n",
       "      <td>24400782</td>\n",
       "      <td>Studio Apartment</td>\n",
       "      <td>122159313</td>\n",
       "      <td>The Lion &amp; Key Hotel</td>\n",
       "      <td>Waltham Forest</td>\n",
       "      <td>51.563570</td>\n",
       "      <td>-0.012080</td>\n",
       "      <td>Private room</td>\n",
       "      <td>294</td>\n",
       "      <td>1</td>\n",
       "      <td>0</td>\n",
       "      <td>NaN</td>\n",
       "      <td>NaN</td>\n",
       "      <td>9</td>\n",
       "      <td>365</td>\n",
       "      <td>0</td>\n",
       "    </tr>\n",
       "  </tbody>\n",
       "</table>\n",
       "</div>"
      ],
      "text/plain": [
       "                       id                                           name  \\\n",
       "66049  691089916322128749       Modern 1-bedroom apartment in Kensington   \n",
       "32588            31840409  Luxury Two Bedroom Flat backing onto the Park   \n",
       "25797            24400782                               Studio Apartment   \n",
       "\n",
       "         host_id             host_name           neighbourhood   latitude  \\\n",
       "66049  346768607                   Mia  Hammersmith and Fulham  51.498194   \n",
       "32588   52514797                 Clare  Hammersmith and Fulham  51.478440   \n",
       "25797  122159313  The Lion & Key Hotel          Waltham Forest  51.563570   \n",
       "\n",
       "       longitude        room_type  price  minimum_nights  number_of_reviews  \\\n",
       "66049  -0.212634  Entire home/apt    147               2                  1   \n",
       "32588  -0.195650  Entire home/apt    311               1                 57   \n",
       "25797  -0.012080     Private room    294               1                  0   \n",
       "\n",
       "      last_review  reviews_per_month  calculated_host_listings_count  \\\n",
       "66049  2022-08-26               1.00                               1   \n",
       "32588  2022-07-25               1.34                               4   \n",
       "25797         NaN                NaN                               9   \n",
       "\n",
       "       availability_365  number_of_reviews_ltm  \n",
       "66049                 5                      1  \n",
       "32588               294                     36  \n",
       "25797               365                      0  "
      ]
     },
     "execution_count": 15,
     "metadata": {},
     "output_type": "execute_result"
    }
   ],
   "source": [
    "df.sample(3)"
   ]
  },
  {
   "cell_type": "code",
   "execution_count": 16,
   "id": "fee8ef96-4d92-471c-b863-18ae463ca73b",
   "metadata": {},
   "outputs": [],
   "source": [
    "chlc_htl = df.sort_values(by = 'calculated_host_listings_count', ascending=False)"
   ]
  },
  {
   "cell_type": "code",
   "execution_count": 17,
   "id": "adbc13f7-ac2e-4638-9760-eeedb5dfe273",
   "metadata": {},
   "outputs": [
    {
     "name": "stdout",
     "output_type": "stream",
     "text": [
      "             id                                               name    host_id  \\\n",
      "26578  25243154        NEW Cosy 2BD Flat in the Heart of Wimbledon   28820321   \n",
      "30707  29654010  NEW Fantastic Modern 1 Bedroom Flat Holloway Road   28820321   \n",
      "48880  50407371    NEW 1 Bedroom Flat in the Heart of East London!   28820321   \n",
      "40465  40233166     NEW 2BD East London Garden Flat South Woodford   28820321   \n",
      "19009  19487983     New Exclusive Two Bedroom Flat Centre Chelsea!   28820321   \n",
      "...         ...                                                ...        ...   \n",
      "26506  25154667   Stunning Double Room near City & Regent's Canal.    4093276   \n",
      "26507  25310847              Beautiful 3 Bed House- Fulham, London  191172845   \n",
      "26508  25155551    Private double bedroom and bathroom, Wandsworth   14390361   \n",
      "26511  25218668                                       Family House  190546055   \n",
      "34675  34172940                            Double room in Shadwell  210738176   \n",
      "\n",
      "       host_name           neighbourhood  latitude  longitude  \\\n",
      "26578   Veronica                  Merton  51.42658   -0.20468   \n",
      "30707   Veronica               Islington  51.55098   -0.11346   \n",
      "48880   Veronica           Tower Hamlets  51.52177   -0.05330   \n",
      "40465   Veronica               Redbridge  51.59184    0.02249   \n",
      "19009   Veronica  Kensington and Chelsea  51.48559   -0.17768   \n",
      "...          ...                     ...       ...        ...   \n",
      "26506     Dionne                 Hackney  51.53521   -0.09043   \n",
      "26507     Joseph  Hammersmith and Fulham  51.47745   -0.20670   \n",
      "26508  Charlotte              Wandsworth  51.45956   -0.18909   \n",
      "26511      Peter                  Sutton  51.37772   -0.17958   \n",
      "34675      Danny           Tower Hamlets  51.51140   -0.05978   \n",
      "\n",
      "             room_type  price  minimum_nights  number_of_reviews last_review  \\\n",
      "26578  Entire home/apt    120               2                  9  2018-08-26   \n",
      "30707  Entire home/apt     80               2                 32  2021-10-23   \n",
      "48880  Entire home/apt    110               2                  4  2022-03-20   \n",
      "40465  Entire home/apt     80               2                  5  2021-03-27   \n",
      "19009  Entire home/apt    160               3                 21  2018-06-10   \n",
      "...                ...    ...             ...                ...         ...   \n",
      "26506     Private room     51               3                 36  2022-08-31   \n",
      "26507  Entire home/apt    160               2                  3  2018-08-19   \n",
      "26508     Private room     45               1                 70  2020-03-15   \n",
      "26511     Private room     27               5                  0         NaN   \n",
      "34675     Private room     39               2                  0         NaN   \n",
      "\n",
      "       reviews_per_month  calculated_host_listings_count  availability_365  \\\n",
      "26578               0.17                             285                 0   \n",
      "30707               0.69                             285                 0   \n",
      "48880               0.29                             285                 0   \n",
      "40465               0.16                             285                 0   \n",
      "19009               0.34                             285                 0   \n",
      "...                  ...                             ...               ...   \n",
      "26506               0.75                               1                82   \n",
      "26507               0.06                               1                 0   \n",
      "26508               1.34                               1                 0   \n",
      "26511                NaN                               1                 0   \n",
      "34675                NaN                               1                 0   \n",
      "\n",
      "       number_of_reviews_ltm  \n",
      "26578                      0  \n",
      "30707                      3  \n",
      "48880                      1  \n",
      "40465                      0  \n",
      "19009                      0  \n",
      "...                      ...  \n",
      "26506                      7  \n",
      "26507                      0  \n",
      "26508                      0  \n",
      "26511                      0  \n",
      "34675                      0  \n",
      "\n",
      "[69351 rows x 16 columns]                        id                                               name  \\\n",
      "20556            20455534  Lovely 1-Bedroom Apartment with Balcony in Putney   \n",
      "58149  622417256291176195     1 Bedroom Flat in the famous Notting Hill area   \n",
      "9591             10799172                Modern family home Twickenham Green   \n",
      "\n",
      "         host_id host_name           neighbourhood  latitude  longitude  \\\n",
      "20556   50963247     Darko              Wandsworth  51.45869  -0.216230   \n",
      "58149  441946962   Daniela  Kensington and Chelsea  51.50850  -0.195037   \n",
      "9591    55894030     Carol    Richmond upon Thames  51.44494  -0.344940   \n",
      "\n",
      "             room_type  price  minimum_nights  number_of_reviews last_review  \\\n",
      "20556  Entire home/apt    185               2                 38  2021-03-31   \n",
      "58149  Entire home/apt    189               3                  5  2022-08-15   \n",
      "9591   Entire home/apt    200               7                 16  2022-08-07   \n",
      "\n",
      "       reviews_per_month  calculated_host_listings_count  availability_365  \\\n",
      "20556               0.63                               1                 1   \n",
      "58149               2.11                               1               303   \n",
      "9591                0.20                               1                 8   \n",
      "\n",
      "       number_of_reviews_ltm  \n",
      "20556                      0  \n",
      "58149                      5  \n",
      "9591                       1  \n"
     ]
    }
   ],
   "source": [
    "print(chlc_htl, df.sample(3))"
   ]
  },
  {
   "cell_type": "code",
   "execution_count": 18,
   "id": "506ff05b-3392-4214-a812-342dd53353d8",
   "metadata": {},
   "outputs": [
    {
     "data": {
      "text/plain": [
       "<bound method NDFrame.head of                        id                                          name  \\\n",
       "0                  106332              Lovely large room, Bethnal Green   \n",
       "1                   13913           Holiday London DB Room Let-on going   \n",
       "2                  284532           COSY STUDIO-FLAT WITH A GREAT  VIEW   \n",
       "3                  107048          A Luxury Studio Suite in Clerkenwell   \n",
       "4                  284603           Notting Hill church stay in Heaven!   \n",
       "...                   ...                                           ...   \n",
       "69346             9671724            Cozy room in Greenwich, river view   \n",
       "69347            20277958                        River view Tate Modern   \n",
       "69348            20512703  Luxury 4 bed house, 100m to river and palace   \n",
       "69349            49698549                       Waterfront Hampton Stay   \n",
       "69350  554172169432589107  GuestReady Gorgeous Bright 2 Br Apartment in   \n",
       "\n",
       "         host_id       host_name           neighbourhood  latitude  longitude  \\\n",
       "0         264345           Susie           Tower Hamlets  51.52874   -0.05396   \n",
       "1          54730           Alina               Islington  51.56861   -0.11270   \n",
       "2        1481412            Luca           Tower Hamlets  51.52851   -0.07426   \n",
       "3         259088           Simon               Islington  51.52478   -0.10484   \n",
       "4        1481851           Tania  Kensington and Chelsea  51.51464   -0.20004   \n",
       "...          ...             ...                     ...       ...        ...   \n",
       "69346   49977905            Kurt               Greenwich  51.48300   -0.01346   \n",
       "69347    1132775            Mark               Southwark  51.50914   -0.10192   \n",
       "69348    1706966  Asher & Aileen    Richmond upon Thames  51.40571   -0.35325   \n",
       "69349   34213667            Alan    Richmond upon Thames  51.41029   -0.35975   \n",
       "69350  402191311      GuestReady               Greenwich  51.50183    0.00862   \n",
       "\n",
       "             room_type  price  minimum_nights  number_of_reviews last_review  \\\n",
       "0         Private room     55               3                 65  2016-06-10   \n",
       "1         Private room     50               1                 30  2022-07-15   \n",
       "2      Entire home/apt     90               5                 42  2022-01-04   \n",
       "3         Private room    180               4                493  2022-09-02   \n",
       "4      Entire home/apt    297              14                  6  2022-07-04   \n",
       "...                ...    ...             ...                ...         ...   \n",
       "69346     Private room     55               5                 67  2021-10-03   \n",
       "69347  Entire home/apt    201               3                 61  2022-09-09   \n",
       "69348  Entire home/apt    246               3                  6  2022-08-31   \n",
       "69349  Entire home/apt    250               3                  9  2022-07-18   \n",
       "69350  Entire home/apt    134               2                 17  2022-06-20   \n",
       "\n",
       "       reviews_per_month  calculated_host_listings_count  availability_365  \\\n",
       "0                   0.47                               1                74   \n",
       "1                   0.20                               2               343   \n",
       "2                   0.34                               1               222   \n",
       "3                   3.59                               5               236   \n",
       "4                   0.05                               1               180   \n",
       "...                  ...                             ...               ...   \n",
       "69346               0.84                               3                 0   \n",
       "69347               0.99                               1                 0   \n",
       "69348               1.49                               1                 4   \n",
       "69349               0.61                               1                 2   \n",
       "69350               2.45                             101                85   \n",
       "\n",
       "       number_of_reviews_ltm  \n",
       "0                          0  \n",
       "1                          9  \n",
       "2                          1  \n",
       "3                         20  \n",
       "4                          2  \n",
       "...                      ...  \n",
       "69346                      1  \n",
       "69347                     12  \n",
       "69348                      6  \n",
       "69349                      4  \n",
       "69350                     17  \n",
       "\n",
       "[69351 rows x 16 columns]>"
      ]
     },
     "execution_count": 18,
     "metadata": {},
     "output_type": "execute_result"
    }
   ],
   "source": [
    "df.head"
   ]
  },
  {
   "cell_type": "code",
   "execution_count": 19,
   "id": "bc4b7f47-9bd1-4735-a816-4db35b8cd781",
   "metadata": {},
   "outputs": [
    {
     "ename": "AttributeError",
     "evalue": "'function' object has no attribute 'chlc_htl'",
     "output_type": "error",
     "traceback": [
      "\u001b[0;31m---------------------------------------------------------------------------\u001b[0m",
      "\u001b[0;31mAttributeError\u001b[0m                            Traceback (most recent call last)",
      "Input \u001b[0;32mIn [19]\u001b[0m, in \u001b[0;36m<cell line: 1>\u001b[0;34m()\u001b[0m\n\u001b[0;32m----> 1\u001b[0m \u001b[43mdf\u001b[49m\u001b[38;5;241;43m.\u001b[39;49m\u001b[43msample\u001b[49m\u001b[38;5;241;43m.\u001b[39;49m\u001b[43mchlc_htl\u001b[49m\n",
      "\u001b[0;31mAttributeError\u001b[0m: 'function' object has no attribute 'chlc_htl'"
     ]
    }
   ],
   "source": [
    "df.sample.chlc_htl"
   ]
  },
  {
   "cell_type": "code",
   "execution_count": 20,
   "id": "080fa984-7877-45d6-8382-cd66191a3c09",
   "metadata": {},
   "outputs": [
    {
     "name": "stdout",
     "output_type": "stream",
     "text": [
      "             id                                               name    host_id  \\\n",
      "26578  25243154        NEW Cosy 2BD Flat in the Heart of Wimbledon   28820321   \n",
      "30707  29654010  NEW Fantastic Modern 1 Bedroom Flat Holloway Road   28820321   \n",
      "48880  50407371    NEW 1 Bedroom Flat in the Heart of East London!   28820321   \n",
      "40465  40233166     NEW 2BD East London Garden Flat South Woodford   28820321   \n",
      "19009  19487983     New Exclusive Two Bedroom Flat Centre Chelsea!   28820321   \n",
      "...         ...                                                ...        ...   \n",
      "26506  25154667   Stunning Double Room near City & Regent's Canal.    4093276   \n",
      "26507  25310847              Beautiful 3 Bed House- Fulham, London  191172845   \n",
      "26508  25155551    Private double bedroom and bathroom, Wandsworth   14390361   \n",
      "26511  25218668                                       Family House  190546055   \n",
      "34675  34172940                            Double room in Shadwell  210738176   \n",
      "\n",
      "       host_name           neighbourhood  latitude  longitude  \\\n",
      "26578   Veronica                  Merton  51.42658   -0.20468   \n",
      "30707   Veronica               Islington  51.55098   -0.11346   \n",
      "48880   Veronica           Tower Hamlets  51.52177   -0.05330   \n",
      "40465   Veronica               Redbridge  51.59184    0.02249   \n",
      "19009   Veronica  Kensington and Chelsea  51.48559   -0.17768   \n",
      "...          ...                     ...       ...        ...   \n",
      "26506     Dionne                 Hackney  51.53521   -0.09043   \n",
      "26507     Joseph  Hammersmith and Fulham  51.47745   -0.20670   \n",
      "26508  Charlotte              Wandsworth  51.45956   -0.18909   \n",
      "26511      Peter                  Sutton  51.37772   -0.17958   \n",
      "34675      Danny           Tower Hamlets  51.51140   -0.05978   \n",
      "\n",
      "             room_type  price  minimum_nights  number_of_reviews last_review  \\\n",
      "26578  Entire home/apt    120               2                  9  2018-08-26   \n",
      "30707  Entire home/apt     80               2                 32  2021-10-23   \n",
      "48880  Entire home/apt    110               2                  4  2022-03-20   \n",
      "40465  Entire home/apt     80               2                  5  2021-03-27   \n",
      "19009  Entire home/apt    160               3                 21  2018-06-10   \n",
      "...                ...    ...             ...                ...         ...   \n",
      "26506     Private room     51               3                 36  2022-08-31   \n",
      "26507  Entire home/apt    160               2                  3  2018-08-19   \n",
      "26508     Private room     45               1                 70  2020-03-15   \n",
      "26511     Private room     27               5                  0         NaN   \n",
      "34675     Private room     39               2                  0         NaN   \n",
      "\n",
      "       reviews_per_month  calculated_host_listings_count  availability_365  \\\n",
      "26578               0.17                             285                 0   \n",
      "30707               0.69                             285                 0   \n",
      "48880               0.29                             285                 0   \n",
      "40465               0.16                             285                 0   \n",
      "19009               0.34                             285                 0   \n",
      "...                  ...                             ...               ...   \n",
      "26506               0.75                               1                82   \n",
      "26507               0.06                               1                 0   \n",
      "26508               1.34                               1                 0   \n",
      "26511                NaN                               1                 0   \n",
      "34675                NaN                               1                 0   \n",
      "\n",
      "       number_of_reviews_ltm  \n",
      "26578                      0  \n",
      "30707                      3  \n",
      "48880                      1  \n",
      "40465                      0  \n",
      "19009                      0  \n",
      "...                      ...  \n",
      "26506                      7  \n",
      "26507                      0  \n",
      "26508                      0  \n",
      "26511                      0  \n",
      "34675                      0  \n",
      "\n",
      "[69351 rows x 16 columns]\n"
     ]
    }
   ],
   "source": [
    "print(chlc_htl)"
   ]
  },
  {
   "cell_type": "code",
   "execution_count": 21,
   "id": "0bd0d41b-e4a2-470d-becb-19eee350b8de",
   "metadata": {},
   "outputs": [
    {
     "name": "stdout",
     "output_type": "stream",
     "text": [
      "['neighbourhood_group' 'neighbourhood']\n"
     ]
    }
   ],
   "source": [
    "print (df1.columns.values)"
   ]
  },
  {
   "cell_type": "code",
   "execution_count": 22,
   "id": "d60f021b-dfca-4711-96fd-abfa9acdb5ad",
   "metadata": {},
   "outputs": [
    {
     "data": {
      "text/html": [
       "<div>\n",
       "<style scoped>\n",
       "    .dataframe tbody tr th:only-of-type {\n",
       "        vertical-align: middle;\n",
       "    }\n",
       "\n",
       "    .dataframe tbody tr th {\n",
       "        vertical-align: top;\n",
       "    }\n",
       "\n",
       "    .dataframe thead th {\n",
       "        text-align: right;\n",
       "    }\n",
       "</style>\n",
       "<table border=\"1\" class=\"dataframe\">\n",
       "  <thead>\n",
       "    <tr style=\"text-align: right;\">\n",
       "      <th></th>\n",
       "      <th>neighbourhood_group</th>\n",
       "      <th>neighbourhood</th>\n",
       "    </tr>\n",
       "  </thead>\n",
       "  <tbody>\n",
       "    <tr>\n",
       "      <th>3</th>\n",
       "      <td>NaN</td>\n",
       "      <td>Brent</td>\n",
       "    </tr>\n",
       "    <tr>\n",
       "      <th>27</th>\n",
       "      <td>NaN</td>\n",
       "      <td>Southwark</td>\n",
       "    </tr>\n",
       "    <tr>\n",
       "      <th>17</th>\n",
       "      <td>NaN</td>\n",
       "      <td>Hounslow</td>\n",
       "    </tr>\n",
       "  </tbody>\n",
       "</table>\n",
       "</div>"
      ],
      "text/plain": [
       "    neighbourhood_group neighbourhood\n",
       "3                   NaN         Brent\n",
       "27                  NaN     Southwark\n",
       "17                  NaN      Hounslow"
      ]
     },
     "execution_count": 22,
     "metadata": {},
     "output_type": "execute_result"
    }
   ],
   "source": [
    "df1.sample(3)"
   ]
  },
  {
   "cell_type": "code",
   "execution_count": 23,
   "id": "da57a0b6-4040-4015-afac-6163b35c594e",
   "metadata": {},
   "outputs": [
    {
     "name": "stderr",
     "output_type": "stream",
     "text": [
      "/tmp/ipykernel_107/4032804503.py:1: DtypeWarning: Columns (2,14,26,38,50,62,74,86,87,88,89,90,91,92,93,94,95,96,97,98,99,100,101,102,103,104,105,106,107,108,109,110,111,112,113,114,115,116,117,118,119,120,121,122,123,124,125,126,127,128,129,130,131,132,133,134,135,136,143,145,147,148,149,150,151,152,153,154,157,158,159,160,163,164,165,166,167,170,171,172,173,174,177,178,179,180,181,184,185,186,187,188,191,192,193,194,195,198,199,200,207,208,209) have mixed types. Specify dtype option on import or set low_memory=False.\n",
      "  df2 = pd.read_csv('lsoa-data-old-boundaries.csv')\n"
     ]
    }
   ],
   "source": [
    "df2 = pd.read_csv('lsoa-data-old-boundaries.csv')"
   ]
  },
  {
   "cell_type": "code",
   "execution_count": 24,
   "id": "903bf076-6ae2-4a01-afe4-f61125eb9367",
   "metadata": {},
   "outputs": [
    {
     "data": {
      "text/html": [
       "<div>\n",
       "<style scoped>\n",
       "    .dataframe tbody tr th:only-of-type {\n",
       "        vertical-align: middle;\n",
       "    }\n",
       "\n",
       "    .dataframe tbody tr th {\n",
       "        vertical-align: top;\n",
       "    }\n",
       "\n",
       "    .dataframe thead th {\n",
       "        text-align: right;\n",
       "    }\n",
       "</style>\n",
       "<table border=\"1\" class=\"dataframe\">\n",
       "  <thead>\n",
       "    <tr style=\"text-align: right;\">\n",
       "      <th></th>\n",
       "      <th>Unnamed: 0</th>\n",
       "      <th>Unnamed: 1</th>\n",
       "      <th>Mid-year Population Estimates</th>\n",
       "      <th>Unnamed: 3</th>\n",
       "      <th>Unnamed: 4</th>\n",
       "      <th>Unnamed: 5</th>\n",
       "      <th>Unnamed: 6</th>\n",
       "      <th>Unnamed: 7</th>\n",
       "      <th>Unnamed: 8</th>\n",
       "      <th>Unnamed: 9</th>\n",
       "      <th>...</th>\n",
       "      <th>Unnamed: 200</th>\n",
       "      <th>Unnamed: 201</th>\n",
       "      <th>Unnamed: 202</th>\n",
       "      <th>Unnamed: 203</th>\n",
       "      <th>Unnamed: 204</th>\n",
       "      <th>Unnamed: 205</th>\n",
       "      <th>Unnamed: 206</th>\n",
       "      <th>House Prices (2012)</th>\n",
       "      <th>Unnamed: 208</th>\n",
       "      <th>Unnamed: 209</th>\n",
       "    </tr>\n",
       "  </thead>\n",
       "  <tbody>\n",
       "    <tr>\n",
       "      <th>3110</th>\n",
       "      <td>E01003109</td>\n",
       "      <td>Lambeth 003E</td>\n",
       "      <td>1503</td>\n",
       "      <td>1620.0</td>\n",
       "      <td>1668.0</td>\n",
       "      <td>1743.0</td>\n",
       "      <td>1792.0</td>\n",
       "      <td>1818.0</td>\n",
       "      <td>1917.0</td>\n",
       "      <td>1974.0</td>\n",
       "      <td>...</td>\n",
       "      <td>5.6</td>\n",
       "      <td>5.5</td>\n",
       "      <td>5.4</td>\n",
       "      <td>5.3</td>\n",
       "      <td>5.0</td>\n",
       "      <td>4.9</td>\n",
       "      <td>4.7</td>\n",
       "      <td>447119</td>\n",
       "      <td>29</td>\n",
       "      <td>2.4</td>\n",
       "    </tr>\n",
       "    <tr>\n",
       "      <th>3290</th>\n",
       "      <td>E01003289</td>\n",
       "      <td>Lewisham 012B</td>\n",
       "      <td>2161</td>\n",
       "      <td>2191.0</td>\n",
       "      <td>2186.0</td>\n",
       "      <td>2188.0</td>\n",
       "      <td>2212.0</td>\n",
       "      <td>2333.0</td>\n",
       "      <td>2516.0</td>\n",
       "      <td>2610.0</td>\n",
       "      <td>...</td>\n",
       "      <td>0.1</td>\n",
       "      <td>0.1</td>\n",
       "      <td>0.1</td>\n",
       "      <td>0.1</td>\n",
       "      <td>0.1</td>\n",
       "      <td>0.1</td>\n",
       "      <td>0.1</td>\n",
       "      <td>272965</td>\n",
       "      <td>27</td>\n",
       "      <td>2.1</td>\n",
       "    </tr>\n",
       "    <tr>\n",
       "      <th>3791</th>\n",
       "      <td>E01003790</td>\n",
       "      <td>Redbridge 027A</td>\n",
       "      <td>1408</td>\n",
       "      <td>1440.0</td>\n",
       "      <td>1429.0</td>\n",
       "      <td>1433.0</td>\n",
       "      <td>1426.0</td>\n",
       "      <td>1424.0</td>\n",
       "      <td>1423.0</td>\n",
       "      <td>1475.0</td>\n",
       "      <td>...</td>\n",
       "      <td>0.9</td>\n",
       "      <td>0.0</td>\n",
       "      <td>0.0</td>\n",
       "      <td>0.0</td>\n",
       "      <td>0.0</td>\n",
       "      <td>0.0</td>\n",
       "      <td>0.0</td>\n",
       "      <td>451875</td>\n",
       "      <td>12</td>\n",
       "      <td>2.1</td>\n",
       "    </tr>\n",
       "  </tbody>\n",
       "</table>\n",
       "<p>3 rows × 210 columns</p>\n",
       "</div>"
      ],
      "text/plain": [
       "     Unnamed: 0      Unnamed: 1 Mid-year Population Estimates  Unnamed: 3  \\\n",
       "3110  E01003109    Lambeth 003E                          1503      1620.0   \n",
       "3290  E01003289   Lewisham 012B                          2161      2191.0   \n",
       "3791  E01003790  Redbridge 027A                          1408      1440.0   \n",
       "\n",
       "      Unnamed: 4  Unnamed: 5  Unnamed: 6  Unnamed: 7  Unnamed: 8  Unnamed: 9  \\\n",
       "3110      1668.0      1743.0      1792.0      1818.0      1917.0      1974.0   \n",
       "3290      2186.0      2188.0      2212.0      2333.0      2516.0      2610.0   \n",
       "3791      1429.0      1433.0      1426.0      1424.0      1423.0      1475.0   \n",
       "\n",
       "      ...  Unnamed: 200  Unnamed: 201  Unnamed: 202  Unnamed: 203  \\\n",
       "3110  ...           5.6           5.5           5.4           5.3   \n",
       "3290  ...           0.1           0.1           0.1           0.1   \n",
       "3791  ...           0.9           0.0           0.0           0.0   \n",
       "\n",
       "     Unnamed: 204  Unnamed: 205  Unnamed: 206  House Prices (2012)  \\\n",
       "3110          5.0           4.9           4.7               447119   \n",
       "3290          0.1           0.1           0.1               272965   \n",
       "3791          0.0           0.0           0.0               451875   \n",
       "\n",
       "      Unnamed: 208  Unnamed: 209  \n",
       "3110            29           2.4  \n",
       "3290            27           2.1  \n",
       "3791            12           2.1  \n",
       "\n",
       "[3 rows x 210 columns]"
      ]
     },
     "execution_count": 24,
     "metadata": {},
     "output_type": "execute_result"
    }
   ],
   "source": [
    "df2.sample(3)"
   ]
  },
  {
   "cell_type": "code",
   "execution_count": 25,
   "id": "7353e048-805b-4558-bc41-d35e832e7f22",
   "metadata": {},
   "outputs": [
    {
     "data": {
      "text/plain": [
       "<AxesSubplot:>"
      ]
     },
     "execution_count": 25,
     "metadata": {},
     "output_type": "execute_result"
    },
    {
     "data": {
      "image/png": "[encoded data removed]",
      "text/plain": [
       "<Figure size 432x288 with 1 Axes>"
      ]
     },
     "metadata": {
      "needs_background": "light"
     },
     "output_type": "display_data"
    }
   ],
   "source": [
    "gdf = gpd.GeoDataFrame(df,\n",
    "            geometry = gpd.points_from_xy(\n",
    "                        df['longitude'], \n",
    "                        df['latitude'], \n",
    "                        crs='epsg:4326'\n",
    "            )\n",
    "      )\n",
    "gdf.plot()"
   ]
  },
  {
   "cell_type": "code",
   "execution_count": 26,
   "id": "503ca505-cfd2-434f-8424-4fac4e31c99f",
   "metadata": {},
   "outputs": [
    {
     "data": {
      "text/plain": [
       "<AxesSubplot:>"
      ]
     },
     "execution_count": 26,
     "metadata": {},
     "output_type": "execute_result"
    },
    {
     "data": {
      "image/png": "[encoded data removed]",
      "text/plain": [
       "<Figure size 432x288 with 1 Axes>"
      ]
     },
     "metadata": {
      "needs_background": "light"
     },
     "output_type": "display_data"
    }
   ],
   "source": [
    "gdf.plot(column='price', cmap='viridis', \n",
    "         scheme='quantiles', markersize=8, legend=True)"
   ]
  },
  {
   "cell_type": "code",
   "execution_count": 33,
   "id": "0d840297-87c5-4baa-9d3f-65916d7238a8",
   "metadata": {},
   "outputs": [
    {
     "name": "stdout",
     "output_type": "stream",
     "text": [
      "                          host_id  calculated_host_listings_count\n",
      "host_name                                                        \n",
      "'Cassie                         1                        1.000000\n",
      "'Connor                         2                        1.000000\n",
      "'Damz                           1                        1.000000\n",
      "(Email hidden by Airbnb)       14                        0.755102\n",
      "(Please                         1                        1.000000\n",
      "...                           ...                             ...\n",
      "英杰                              1                        1.000000\n",
      "认证手机用户5528                      1                        1.000000\n",
      "鏵萱                              1                        1.000000\n",
      "霞                               1                        1.000000\n",
      "현석                              1                        1.000000\n",
      "\n",
      "[13043 rows x 2 columns]\n"
     ]
    }
   ],
   "source": [
    "# Trying to do Herfindahl_Hirschmann Index to see how some hosts might hold larger shares of the market\n",
    "def hhi(series):\n",
    "    _, cnt = np.unique(series, return_counts=True)\n",
    "    return np.square(cnt/cnt.sum()).sum()    \n",
    "\n",
    "new_df = df.groupby('host_name').agg({'host_id': 'count', 'calculated_host_listings_count': hhi})\n",
    "print(new_df)"
   ]
  },
  {
   "cell_type": "code",
   "execution_count": 34,
   "id": "98822216-5dd9-4dda-80eb-1af22f84a780",
   "metadata": {},
   "outputs": [
    {
     "data": {
      "text/html": [
       "<div>\n",
       "<style scoped>\n",
       "    .dataframe tbody tr th:only-of-type {\n",
       "        vertical-align: middle;\n",
       "    }\n",
       "\n",
       "    .dataframe tbody tr th {\n",
       "        vertical-align: top;\n",
       "    }\n",
       "\n",
       "    .dataframe thead th {\n",
       "        text-align: right;\n",
       "    }\n",
       "</style>\n",
       "<table border=\"1\" class=\"dataframe\">\n",
       "  <thead>\n",
       "    <tr style=\"text-align: right;\">\n",
       "      <th></th>\n",
       "      <th>host_id</th>\n",
       "      <th>calculated_host_listings_count</th>\n",
       "    </tr>\n",
       "    <tr>\n",
       "      <th>host_name</th>\n",
       "      <th></th>\n",
       "      <th></th>\n",
       "    </tr>\n",
       "  </thead>\n",
       "  <tbody>\n",
       "    <tr>\n",
       "      <th>Annely</th>\n",
       "      <td>5</td>\n",
       "      <td>1.000000</td>\n",
       "    </tr>\n",
       "    <tr>\n",
       "      <th>Jacinta</th>\n",
       "      <td>3</td>\n",
       "      <td>0.555556</td>\n",
       "    </tr>\n",
       "    <tr>\n",
       "      <th>Phil And Genevieve</th>\n",
       "      <td>1</td>\n",
       "      <td>1.000000</td>\n",
       "    </tr>\n",
       "    <tr>\n",
       "      <th>Mayda</th>\n",
       "      <td>1</td>\n",
       "      <td>1.000000</td>\n",
       "    </tr>\n",
       "    <tr>\n",
       "      <th>Qandeel</th>\n",
       "      <td>1</td>\n",
       "      <td>1.000000</td>\n",
       "    </tr>\n",
       "    <tr>\n",
       "      <th>Ewuradjoa</th>\n",
       "      <td>1</td>\n",
       "      <td>1.000000</td>\n",
       "    </tr>\n",
       "    <tr>\n",
       "      <th>Georg</th>\n",
       "      <td>3</td>\n",
       "      <td>1.000000</td>\n",
       "    </tr>\n",
       "    <tr>\n",
       "      <th>Siena</th>\n",
       "      <td>1</td>\n",
       "      <td>1.000000</td>\n",
       "    </tr>\n",
       "    <tr>\n",
       "      <th>Ruhy</th>\n",
       "      <td>3</td>\n",
       "      <td>1.000000</td>\n",
       "    </tr>\n",
       "    <tr>\n",
       "      <th>Akihiro</th>\n",
       "      <td>1</td>\n",
       "      <td>1.000000</td>\n",
       "    </tr>\n",
       "  </tbody>\n",
       "</table>\n",
       "</div>"
      ],
      "text/plain": [
       "                    host_id  calculated_host_listings_count\n",
       "host_name                                                  \n",
       "Annely                    5                        1.000000\n",
       "Jacinta                   3                        0.555556\n",
       "Phil And Genevieve        1                        1.000000\n",
       "Mayda                     1                        1.000000\n",
       "Qandeel                   1                        1.000000\n",
       "Ewuradjoa                 1                        1.000000\n",
       "Georg                     3                        1.000000\n",
       "Siena                     1                        1.000000\n",
       "Ruhy                      3                        1.000000\n",
       "Akihiro                   1                        1.000000"
      ]
     },
     "execution_count": 34,
     "metadata": {},
     "output_type": "execute_result"
    }
   ],
   "source": [
    "new_df.sample(10)\n",
    "# Don't think I'm doing this correctly"
   ]
  },
  {
   "cell_type": "code",
   "execution_count": null,
   "id": "e6e6f350-7409-4346-9b92-254e4497d33d",
   "metadata": {},
   "outputs": [],
   "source": [
    "# Going to try to get shares doing calculated_host_listings divided by total count\n",
    "\n"
   ]
  }
 ],
 "metadata": {
  "kernelspec": {
   "display_name": "Python 3 (ipykernel)",
   "language": "python",
   "name": "python3"
  },
  "language_info": {
   "codemirror_mode": {
    "name": "ipython",
    "version": 3
   },
   "file_extension": ".py",
   "mimetype": "text/x-python",
   "name": "python",
   "nbconvert_exporter": "python",
   "pygments_lexer": "ipython3",
   "version": "3.10.5"
  }
 },
 "nbformat": 4,
 "nbformat_minor": 5
}
