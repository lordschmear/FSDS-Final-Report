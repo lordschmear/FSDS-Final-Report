{
 "cells": [
  {
   "cell_type": "code",
   "execution_count": 1,
   "id": "b118de46-13db-408d-86f2-8b7da685b50d",
   "metadata": {},
   "outputs": [],
   "source": [
    "# Working on this - Diego #"
   ]
  },
  {
   "cell_type": "code",
   "execution_count": null,
   "id": "4e1a9cb9-c29a-406c-ad86-6134aadbbdf3",
   "metadata": {},
   "outputs": [],
   "source": []
  }
 ],
 "metadata": {
  "kernelspec": {
   "display_name": "Python 3 (ipykernel)",
   "language": "python",
   "name": "python3"
  },
  "language_info": {
   "codemirror_mode": {
    "name": "ipython",
    "version": 3
   },
   "file_extension": ".py",
   "mimetype": "text/x-python",
   "name": "python",
   "nbconvert_exporter": "python",
   "pygments_lexer": "ipython3",
   "version": "3.10.5"
  }
 },
 "nbformat": 4,
 "nbformat_minor": 5
}
