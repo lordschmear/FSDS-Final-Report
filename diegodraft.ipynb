{
 "cells": [
  {
   "cell_type": "code",
   "execution_count": null,
   "id": "c62f8a32-49c7-4abd-abf2-750a2ffbe3de",
   "metadata": {},
   "outputs": [],
   "source": [
    "mv untitled.ipynb diegodraft.ipynb"
   ]
  },
  {
   "cell_type": "code",
   "execution_count": 1,
   "id": "a27d3792-b3bd-4b46-af86-00b070bb4fbc",
   "metadata": {},
   "outputs": [],
   "source": [
    "# Draft of coding for my analysis. Undecided as of now. "
   ]
  }
 ],
 "metadata": {
  "kernelspec": {
   "display_name": "Python 3 (ipykernel)",
   "language": "python",
   "name": "python3"
  },
  "language_info": {
   "codemirror_mode": {
    "name": "ipython",
    "version": 3
   },
   "file_extension": ".py",
   "mimetype": "text/x-python",
   "name": "python",
   "nbconvert_exporter": "python",
   "pygments_lexer": "ipython3",
   "version": "3.10.5"
  }
 },
 "nbformat": 4,
 "nbformat_minor": 5
}
